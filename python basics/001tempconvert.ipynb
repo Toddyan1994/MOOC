{
  "nbformat": 4,
  "nbformat_minor": 0,
  "metadata": {
    "colab": {
      "name": "001tempconvert.ipynb",
      "provenance": [],
      "collapsed_sections": [],
      "authorship_tag": "ABX9TyM+//J3GItZziBRkuRXtUUd",
      "include_colab_link": true
    },
    "kernelspec": {
      "name": "python3",
      "display_name": "Python 3"
    }
  },
  "cells": [
    {
      "cell_type": "markdown",
      "metadata": {
        "id": "view-in-github",
        "colab_type": "text"
      },
      "source": [
        "<a href=\"https://colab.research.google.com/github/Toddyan1994/MOOC/blob/master/python%20basics/001tempconvert.ipynb\" target=\"_parent\"><img src=\"https://colab.research.google.com/assets/colab-badge.svg\" alt=\"Open In Colab\"/></a>"
      ]
    },
    {
      "cell_type": "code",
      "metadata": {
        "id": "A_nrE2ZNkO5I",
        "colab_type": "code",
        "colab": {
          "base_uri": "https://localhost:8080/",
          "height": 53
        },
        "outputId": "a923c7db-363c-4757-8f1d-c7c166e929e2"
      },
      "source": [
        "TempStr=input(\"plz input temperature value:\")\n",
        "if TempStr[-1] in ['F','f']:\n",
        "  c=(eval(TempStr[0:-1]-32))/1.8\n",
        "  print(\"converted temperature is {:.2f}C\".format(c))\n",
        "elif TempStr[-1] in ['C','c']:\n",
        "  f=1.8*eval(TempStr[0:-1])+32\n",
        "  print(\"converted temperature is {:.2f}F\".format(f))\n",
        "else:\n",
        "  print(\"input format error\")"
      ],
      "execution_count": 3,
      "outputs": [
        {
          "output_type": "stream",
          "text": [
            "plz input temperature value:37c\n",
            "converted temperature is 98.60F\n"
          ],
          "name": "stdout"
        }
      ]
    }
  ]
}