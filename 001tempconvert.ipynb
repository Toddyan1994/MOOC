{
  "nbformat": 4,
  "nbformat_minor": 0,
  "metadata": {
    "colab": {
      "name": "001tempconvert.ipynb",
      "provenance": [],
      "collapsed_sections": [],
      "authorship_tag": "ABX9TyMTD+bfahnb8+8INTuUz+h+",
      "include_colab_link": true
    },
    "kernelspec": {
      "name": "python3",
      "display_name": "Python 3"
    }
  },
  "cells": [
    {
      "cell_type": "markdown",
      "metadata": {
        "id": "view-in-github",
        "colab_type": "text"
      },
      "source": [
        "<a href=\"https://colab.research.google.com/github/Toddyan1994/MOOC/blob/master/001tempconvert.ipynb\" target=\"_parent\"><img src=\"https://colab.research.google.com/assets/colab-badge.svg\" alt=\"Open In Colab\"/></a>"
      ]
    },
    {
      "cell_type": "code",
      "metadata": {
        "id": "A_nrE2ZNkO5I",
        "colab_type": "code",
        "outputId": "a923c7db-363c-4757-8f1d-c7c166e929e2",
        "colab": {
          "base_uri": "https://localhost:8080/",
          "height": 53
        }
      },
      "source": [
        "TempStr=input(\"plz input temperature value:\")\n",
        "if TempStr[-1] in ['F','f']:\n",
        "  c=(eval(TempStr[0:-1]-32))/1.8\n",
        "  print(\"converted temperature is {:.2f}C\".format(c))\n",
        "elif TempStr[-1] in ['C','c']:\n",
        "  f=1.8*eval(TempStr[0:-1])+32\n",
        "  print(\"converted temperature is {:.2f}F\".format(f))\n",
        "else:\n",
        "  print(\"input format error\")"
      ],
      "execution_count": 0,
      "outputs": [
        {
          "output_type": "stream",
          "text": [
            "plz input temperature value:37c\n",
            "converted temperature is 98.60F\n"
          ],
          "name": "stdout"
        }
      ]
    },
    {
      "cell_type": "code",
      "metadata": {
        "id": "XSUdgVnb0xYp",
        "colab_type": "code",
        "colab": {
          "base_uri": "https://localhost:8080/",
          "height": 143
        },
        "outputId": "16f716be-1f40-40bf-9622-11381a72e149"
      },
      "source": [
        "str1=\"Hello World\"\n",
        "int1=int(input())\n",
        "if int1==0:\n",
        "    print(\"Hello World\")\n",
        "elif int1>0:\n",
        "    s=\"\"\n",
        "    for i in range(0,len(str1)):\n",
        "        if i%2==0:\n",
        "            s=s+str1[i]\n",
        "            if i==len(str1)-1:\n",
        "                print(s)\n",
        "        else:\n",
        "            print(s+str1[i])\n",
        "            s=\"\"\n",
        "else:\n",
        "    for i in \"Hello World\":\n",
        "        print(i)"
      ],
      "execution_count": 1,
      "outputs": [
        {
          "output_type": "stream",
          "text": [
            "6\n",
            "He\n",
            "ll\n",
            "o \n",
            "Wo\n",
            "rl\n",
            "d\n"
          ],
          "name": "stdout"
        }
      ]
    }
  ]
}